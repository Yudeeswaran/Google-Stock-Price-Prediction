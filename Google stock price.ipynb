{
 "cells": [
  {
   "cell_type": "code",
   "execution_count": 2,
   "metadata": {},
   "outputs": [],
   "source": [
    "import numpy as np \n",
    "import pandas as pd \n",
    "import matplotlib.pyplot as plt \n",
    "from sklearn.preprocessing import MinMaxScaler\n",
    "from keras.models import Sequential\n",
    "from keras.layers import Dense,LSTM,Dropout"
   ]
  },
  {
   "cell_type": "code",
   "execution_count": 3,
   "metadata": {},
   "outputs": [
    {
     "data": {
      "text/html": [
       "<div>\n",
       "<style scoped>\n",
       "    .dataframe tbody tr th:only-of-type {\n",
       "        vertical-align: middle;\n",
       "    }\n",
       "\n",
       "    .dataframe tbody tr th {\n",
       "        vertical-align: top;\n",
       "    }\n",
       "\n",
       "    .dataframe thead th {\n",
       "        text-align: right;\n",
       "    }\n",
       "</style>\n",
       "<table border=\"1\" class=\"dataframe\">\n",
       "  <thead>\n",
       "    <tr style=\"text-align: right;\">\n",
       "      <th></th>\n",
       "      <th>Date</th>\n",
       "      <th>Open</th>\n",
       "      <th>High</th>\n",
       "      <th>Low</th>\n",
       "      <th>Close</th>\n",
       "      <th>Volume</th>\n",
       "    </tr>\n",
       "  </thead>\n",
       "  <tbody>\n",
       "    <tr>\n",
       "      <th>0</th>\n",
       "      <td>1/3/2012</td>\n",
       "      <td>325.25</td>\n",
       "      <td>332.83</td>\n",
       "      <td>324.97</td>\n",
       "      <td>663.59</td>\n",
       "      <td>7,380,500</td>\n",
       "    </tr>\n",
       "    <tr>\n",
       "      <th>1</th>\n",
       "      <td>1/4/2012</td>\n",
       "      <td>331.27</td>\n",
       "      <td>333.87</td>\n",
       "      <td>329.08</td>\n",
       "      <td>666.45</td>\n",
       "      <td>5,749,400</td>\n",
       "    </tr>\n",
       "    <tr>\n",
       "      <th>2</th>\n",
       "      <td>1/5/2012</td>\n",
       "      <td>329.83</td>\n",
       "      <td>330.75</td>\n",
       "      <td>326.89</td>\n",
       "      <td>657.21</td>\n",
       "      <td>6,590,300</td>\n",
       "    </tr>\n",
       "    <tr>\n",
       "      <th>3</th>\n",
       "      <td>1/6/2012</td>\n",
       "      <td>328.34</td>\n",
       "      <td>328.77</td>\n",
       "      <td>323.68</td>\n",
       "      <td>648.24</td>\n",
       "      <td>5,405,900</td>\n",
       "    </tr>\n",
       "    <tr>\n",
       "      <th>4</th>\n",
       "      <td>1/9/2012</td>\n",
       "      <td>322.04</td>\n",
       "      <td>322.29</td>\n",
       "      <td>309.46</td>\n",
       "      <td>620.76</td>\n",
       "      <td>11,688,800</td>\n",
       "    </tr>\n",
       "  </tbody>\n",
       "</table>\n",
       "</div>"
      ],
      "text/plain": [
       "       Date    Open    High     Low   Close      Volume\n",
       "0  1/3/2012  325.25  332.83  324.97  663.59   7,380,500\n",
       "1  1/4/2012  331.27  333.87  329.08  666.45   5,749,400\n",
       "2  1/5/2012  329.83  330.75  326.89  657.21   6,590,300\n",
       "3  1/6/2012  328.34  328.77  323.68  648.24   5,405,900\n",
       "4  1/9/2012  322.04  322.29  309.46  620.76  11,688,800"
      ]
     },
     "execution_count": 3,
     "metadata": {},
     "output_type": "execute_result"
    }
   ],
   "source": [
    "data = pd.read_csv('Google_train_data.csv')\n",
    "data.head()"
   ]
  },
  {
   "cell_type": "code",
   "execution_count": 4,
   "metadata": {},
   "outputs": [
    {
     "name": "stdout",
     "output_type": "stream",
     "text": [
      "<class 'pandas.core.frame.DataFrame'>\n",
      "RangeIndex: 1258 entries, 0 to 1257\n",
      "Data columns (total 6 columns):\n",
      " #   Column  Non-Null Count  Dtype  \n",
      "---  ------  --------------  -----  \n",
      " 0   Date    1258 non-null   object \n",
      " 1   Open    1258 non-null   float64\n",
      " 2   High    1258 non-null   float64\n",
      " 3   Low     1258 non-null   float64\n",
      " 4   Close   1258 non-null   object \n",
      " 5   Volume  1258 non-null   object \n",
      "dtypes: float64(3), object(3)\n",
      "memory usage: 59.1+ KB\n"
     ]
    }
   ],
   "source": [
    "data.info()"
   ]
  },
  {
   "cell_type": "code",
   "execution_count": 5,
   "metadata": {},
   "outputs": [
    {
     "data": {
      "text/plain": [
       "array([[663.59],\n",
       "       [666.45],\n",
       "       [657.21],\n",
       "       ...,\n",
       "       [785.05],\n",
       "       [782.79],\n",
       "       [771.82]])"
      ]
     },
     "execution_count": 5,
     "metadata": {},
     "output_type": "execute_result"
    }
   ],
   "source": [
    "data[\"Close\"]=pd.to_numeric(data.Close,errors='coerce')\n",
    "data = data.dropna()\n",
    "trainData = data.iloc[:,4:5].values\n",
    "trainData"
   ]
  },
  {
   "cell_type": "code",
   "execution_count": 6,
   "metadata": {},
   "outputs": [
    {
     "name": "stdout",
     "output_type": "stream",
     "text": [
      "<class 'pandas.core.frame.DataFrame'>\n",
      "Index: 1149 entries, 0 to 1257\n",
      "Data columns (total 6 columns):\n",
      " #   Column  Non-Null Count  Dtype  \n",
      "---  ------  --------------  -----  \n",
      " 0   Date    1149 non-null   object \n",
      " 1   Open    1149 non-null   float64\n",
      " 2   High    1149 non-null   float64\n",
      " 3   Low     1149 non-null   float64\n",
      " 4   Close   1149 non-null   float64\n",
      " 5   Volume  1149 non-null   object \n",
      "dtypes: float64(4), object(2)\n",
      "memory usage: 62.8+ KB\n"
     ]
    }
   ],
   "source": [
    "data.info()"
   ]
  },
  {
   "cell_type": "code",
   "execution_count": 7,
   "metadata": {},
   "outputs": [
    {
     "data": {
      "text/plain": [
       "(1149, 1)"
      ]
     },
     "execution_count": 7,
     "metadata": {},
     "output_type": "execute_result"
    }
   ],
   "source": [
    "sc = MinMaxScaler(feature_range=(0,1))\n",
    "trainData = sc.fit_transform(trainData)\n",
    "trainData.shape"
   ]
  },
  {
   "cell_type": "code",
   "execution_count": 8,
   "metadata": {},
   "outputs": [
    {
     "data": {
      "text/plain": [
       "array([[0.40001392, 0.40665027, 0.38520976, ..., 0.36279469, 0.35745777,\n",
       "        0.37766846],\n",
       "       [0.40665027, 0.38520976, 0.36439577, ..., 0.35745777, 0.37766846,\n",
       "        0.36065992],\n",
       "       [0.38520976, 0.36439577, 0.30063115, ..., 0.37766846, 0.36065992,\n",
       "        0.34406906],\n",
       "       ...,\n",
       "       [0.65286802, 0.66184797, 0.66194078, ..., 0.69625951, 0.69312697,\n",
       "        0.69693243],\n",
       "       [0.66184797, 0.66194078, 0.66284574, ..., 0.69312697, 0.69693243,\n",
       "        0.68184982],\n",
       "       [0.66194078, 0.66284574, 0.65871543, ..., 0.69693243, 0.68184982,\n",
       "        0.67660572]])"
      ]
     },
     "execution_count": 8,
     "metadata": {},
     "output_type": "execute_result"
    }
   ],
   "source": [
    "X_train = []\n",
    "y_train = []\n",
    "\n",
    "for i in range (60,1149): #60 : timestep // 1149 : length of the data\n",
    "    X_train.append(trainData[i-60:i,0]) \n",
    "    y_train.append(trainData[i,0])\n",
    "\n",
    "X_train,y_train = np.array(X_train),np.array(y_train)\n",
    "X_train"
   ]
  },
  {
   "cell_type": "code",
   "execution_count": 9,
   "metadata": {},
   "outputs": [
    {
     "data": {
      "text/plain": [
       "(1089, 60, 1)"
      ]
     },
     "execution_count": 9,
     "metadata": {},
     "output_type": "execute_result"
    }
   ],
   "source": [
    "X_train = np.reshape(X_train,(X_train.shape[0],X_train.shape[1],1)) #adding the batch_size axis\n",
    "X_train.shape"
   ]
  },
  {
   "cell_type": "code",
   "execution_count": 10,
   "metadata": {},
   "outputs": [],
   "source": [
    "model = Sequential()\n",
    "\n",
    "model.add(LSTM(units=100, return_sequences = True, input_shape =(X_train.shape[1],1)))\n",
    "model.add(Dropout(0.2))\n",
    "\n",
    "model.add(LSTM(units=100, return_sequences = True))\n",
    "model.add(Dropout(0.2))\n",
    "\n",
    "model.add(LSTM(units=100, return_sequences = True))\n",
    "model.add(Dropout(0.2))\n",
    "\n",
    "model.add(LSTM(units=100, return_sequences = False))\n",
    "model.add(Dropout(0.2))\n",
    "\n",
    "model.add(Dense(units =1))\n",
    "model.compile(optimizer='adam',loss=\"mean_squared_error\")"
   ]
  },
  {
   "cell_type": "code",
   "execution_count": 11,
   "metadata": {},
   "outputs": [
    {
     "name": "stdout",
     "output_type": "stream",
     "text": [
      "Epoch 1/20\n",
      "35/35 - 10s - loss: 0.0369 - 10s/epoch - 280ms/step\n",
      "Epoch 2/20\n",
      "35/35 - 4s - loss: 0.0120 - 4s/epoch - 118ms/step\n",
      "Epoch 3/20\n",
      "35/35 - 4s - loss: 0.0096 - 4s/epoch - 120ms/step\n",
      "Epoch 4/20\n",
      "35/35 - 4s - loss: 0.0093 - 4s/epoch - 121ms/step\n",
      "Epoch 5/20\n",
      "35/35 - 4s - loss: 0.0078 - 4s/epoch - 115ms/step\n",
      "Epoch 6/20\n",
      "35/35 - 4s - loss: 0.0070 - 4s/epoch - 115ms/step\n",
      "Epoch 7/20\n",
      "35/35 - 4s - loss: 0.0074 - 4s/epoch - 114ms/step\n",
      "Epoch 8/20\n",
      "35/35 - 4s - loss: 0.0066 - 4s/epoch - 111ms/step\n",
      "Epoch 9/20\n",
      "35/35 - 4s - loss: 0.0064 - 4s/epoch - 111ms/step\n",
      "Epoch 10/20\n",
      "35/35 - 4s - loss: 0.0057 - 4s/epoch - 118ms/step\n",
      "Epoch 11/20\n",
      "35/35 - 4s - loss: 0.0062 - 4s/epoch - 114ms/step\n",
      "Epoch 12/20\n",
      "35/35 - 4s - loss: 0.0062 - 4s/epoch - 112ms/step\n",
      "Epoch 13/20\n",
      "35/35 - 4s - loss: 0.0056 - 4s/epoch - 112ms/step\n",
      "Epoch 14/20\n",
      "35/35 - 4s - loss: 0.0056 - 4s/epoch - 112ms/step\n",
      "Epoch 15/20\n",
      "35/35 - 4s - loss: 0.0059 - 4s/epoch - 112ms/step\n",
      "Epoch 16/20\n",
      "35/35 - 4s - loss: 0.0045 - 4s/epoch - 114ms/step\n",
      "Epoch 17/20\n",
      "35/35 - 4s - loss: 0.0046 - 4s/epoch - 114ms/step\n",
      "Epoch 18/20\n",
      "35/35 - 4s - loss: 0.0053 - 4s/epoch - 115ms/step\n",
      "Epoch 19/20\n",
      "35/35 - 4s - loss: 0.0071 - 4s/epoch - 113ms/step\n",
      "Epoch 20/20\n",
      "35/35 - 4s - loss: 0.0053 - 4s/epoch - 119ms/step\n"
     ]
    }
   ],
   "source": [
    "hist = model.fit(X_train, y_train, epochs = 20, batch_size = 32, verbose=2)"
   ]
  },
  {
   "cell_type": "code",
   "execution_count": 12,
   "metadata": {},
   "outputs": [
    {
     "data": {
      "image/png": "[encoded data removed]",
      "text/plain": [
       "<Figure size 640x480 with 1 Axes>"
      ]
     },
     "metadata": {},
     "output_type": "display_data"
    }
   ],
   "source": [
    "plt.plot(hist.history['loss'])\n",
    "plt.title('Training model loss')\n",
    "plt.ylabel('loss')\n",
    "plt.xlabel('epoch')\n",
    "plt.legend(['train'], loc='upper left')\n",
    "plt.show()"
   ]
  },
  {
   "cell_type": "code",
   "execution_count": 13,
   "metadata": {},
   "outputs": [
    {
     "data": {
      "text/plain": [
       "(192, 60, 1)"
      ]
     },
     "execution_count": 13,
     "metadata": {},
     "output_type": "execute_result"
    }
   ],
   "source": [
    "testData = pd.read_csv('Google_test_data.csv')\n",
    "testData[\"Close\"]=pd.to_numeric(testData.Close,errors='coerce')\n",
    "testData = testData.dropna()\n",
    "testData = testData.iloc[:,4:5]\n",
    "y_test = testData.iloc[60:,0:].values \n",
    "#input array for the model\n",
    "inputClosing = testData.iloc[:,0:].values \n",
    "inputClosing_scaled = sc.transform(inputClosing)\n",
    "inputClosing_scaled.shape\n",
    "X_test = []\n",
    "length = len(testData)\n",
    "timestep = 60\n",
    "for i in range(timestep,length):  \n",
    "    X_test.append(inputClosing_scaled[i-timestep:i,0])\n",
    "X_test = np.array(X_test)\n",
    "X_test = np.reshape(X_test,(X_test.shape[0],X_test.shape[1],1))\n",
    "X_test.shape"
   ]
  },
  {
   "cell_type": "code",
   "execution_count": 14,
   "metadata": {},
   "outputs": [
    {
     "name": "stdout",
     "output_type": "stream",
     "text": [
      "6/6 [==============================] - 1s 26ms/step\n"
     ]
    },
    {
     "data": {
      "text/plain": [
       "array([[1.1722572],\n",
       "       [1.1749613],\n",
       "       [1.1851658],\n",
       "       [1.20077  ],\n",
       "       [1.2141718],\n",
       "       [1.216065 ],\n",
       "       [1.2059997],\n",
       "       [1.1903881],\n",
       "       [1.1791902],\n",
       "       [1.1751685],\n",
       "       [1.1689326],\n",
       "       [1.1591089],\n",
       "       [1.1499168],\n",
       "       [1.1412473],\n",
       "       [1.1385828],\n",
       "       [1.1418417],\n",
       "       [1.1571189],\n",
       "       [1.1823299],\n",
       "       [1.2121875],\n",
       "       [1.2425767],\n",
       "       [1.2570732],\n",
       "       [1.2566562],\n",
       "       [1.2401631],\n",
       "       [1.2144316],\n",
       "       [1.1897465],\n",
       "       [1.1741976],\n",
       "       [1.168952 ],\n",
       "       [1.1676201],\n",
       "       [1.1615189],\n",
       "       [1.1520845],\n",
       "       [1.1411885],\n",
       "       [1.1285732],\n",
       "       [1.1101196],\n",
       "       [1.0871726],\n",
       "       [1.0759684],\n",
       "       [1.0818917],\n",
       "       [1.0999917],\n",
       "       [1.1223886],\n",
       "       [1.1446496],\n",
       "       [1.1573876],\n",
       "       [1.1695247],\n",
       "       [1.1835471],\n",
       "       [1.1997138],\n",
       "       [1.2151717],\n",
       "       [1.2263119],\n",
       "       [1.2291188],\n",
       "       [1.2217486],\n",
       "       [1.2139949],\n",
       "       [1.2112032],\n",
       "       [1.2156199],\n",
       "       [1.2268368],\n",
       "       [1.2355138],\n",
       "       [1.2389414],\n",
       "       [1.2372812],\n",
       "       [1.235993 ],\n",
       "       [1.2327983],\n",
       "       [1.2255787],\n",
       "       [1.2213336],\n",
       "       [1.2279359],\n",
       "       [1.2430755],\n",
       "       [1.2659386],\n",
       "       [1.29414  ],\n",
       "       [1.315379 ],\n",
       "       [1.3213472],\n",
       "       [1.3127314],\n",
       "       [1.2955211],\n",
       "       [1.2818662],\n",
       "       [1.2759221],\n",
       "       [1.2772902],\n",
       "       [1.2814139],\n",
       "       [1.2863193],\n",
       "       [1.2896496],\n",
       "       [1.2872194],\n",
       "       [1.2825454],\n",
       "       [1.2780484],\n",
       "       [1.2761958],\n",
       "       [1.2773644],\n",
       "       [1.2813579],\n",
       "       [1.291256 ],\n",
       "       [1.3067415],\n",
       "       [1.3271989],\n",
       "       [1.3475348],\n",
       "       [1.3603245],\n",
       "       [1.3636794],\n",
       "       [1.3670251],\n",
       "       [1.3770288],\n",
       "       [1.3923036],\n",
       "       [1.4066035],\n",
       "       [1.4158593],\n",
       "       [1.419121 ],\n",
       "       [1.4208834],\n",
       "       [1.4284676],\n",
       "       [1.4429129],\n",
       "       [1.4540915],\n",
       "       [1.4551501],\n",
       "       [1.4452066],\n",
       "       [1.4262941],\n",
       "       [1.403277 ],\n",
       "       [1.3828241],\n",
       "       [1.3733383],\n",
       "       [1.3765026],\n",
       "       [1.3895661],\n",
       "       [1.4089006],\n",
       "       [1.4272503],\n",
       "       [1.4396559],\n",
       "       [1.4436007],\n",
       "       [1.4418211],\n",
       "       [1.4378718],\n",
       "       [1.4369756],\n",
       "       [1.4404533],\n",
       "       [1.4479908],\n",
       "       [1.4591504],\n",
       "       [1.4710826],\n",
       "       [1.4839007],\n",
       "       [1.4993192],\n",
       "       [1.5128485],\n",
       "       [1.5234524],\n",
       "       [1.532307 ],\n",
       "       [1.5426594],\n",
       "       [1.5295526],\n",
       "       [1.4902853],\n",
       "       [1.4371136],\n",
       "       [1.3903141],\n",
       "       [1.3605704],\n",
       "       [1.3458408],\n",
       "       [1.3406439],\n",
       "       [1.3402172],\n",
       "       [1.3425156],\n",
       "       [1.3392092],\n",
       "       [1.3275831],\n",
       "       [1.3207921],\n",
       "       [1.3263141],\n",
       "       [1.3385695],\n",
       "       [1.3466715],\n",
       "       [1.349742 ],\n",
       "       [1.3495545],\n",
       "       [1.3456278],\n",
       "       [1.3378302],\n",
       "       [1.3283883],\n",
       "       [1.3158451],\n",
       "       [1.3023996],\n",
       "       [1.2876233],\n",
       "       [1.2591838],\n",
       "       [1.223842 ],\n",
       "       [1.1881338],\n",
       "       [1.1587993],\n",
       "       [1.1437778],\n",
       "       [1.1463772],\n",
       "       [1.162204 ],\n",
       "       [1.1837817],\n",
       "       [1.2070183],\n",
       "       [1.2272397],\n",
       "       [1.2432618],\n",
       "       [1.2567645],\n",
       "       [1.2674723],\n",
       "       [1.2767233],\n",
       "       [1.2864949],\n",
       "       [1.2947072],\n",
       "       [1.2936954],\n",
       "       [1.2821844],\n",
       "       [1.2635694],\n",
       "       [1.2442988],\n",
       "       [1.2323477],\n",
       "       [1.2322448],\n",
       "       [1.2440289],\n",
       "       [1.2648045],\n",
       "       [1.2852373],\n",
       "       [1.3016334],\n",
       "       [1.3157622],\n",
       "       [1.3283455],\n",
       "       [1.3387102],\n",
       "       [1.3470974],\n",
       "       [1.3537631],\n",
       "       [1.3567688],\n",
       "       [1.3560332],\n",
       "       [1.3491029],\n",
       "       [1.3395163],\n",
       "       [1.33215  ],\n",
       "       [1.3268597],\n",
       "       [1.3221103],\n",
       "       [1.3434583],\n",
       "       [1.3872658],\n",
       "       [1.4358214],\n",
       "       [1.4730271],\n",
       "       [1.4910262],\n",
       "       [1.4882364],\n",
       "       [1.4618608],\n",
       "       [1.4260215],\n",
       "       [1.3932306],\n",
       "       [1.3768784],\n",
       "       [1.3738996],\n",
       "       [1.375986 ]], dtype=float32)"
      ]
     },
     "execution_count": 14,
     "metadata": {},
     "output_type": "execute_result"
    }
   ],
   "source": [
    "y_pred = model.predict(X_test)\n",
    "y_pred"
   ]
  },
  {
   "cell_type": "code",
   "execution_count": 15,
   "metadata": {},
   "outputs": [],
   "source": [
    "predicted_price = sc.inverse_transform(y_pred)"
   ]
  },
  {
   "cell_type": "code",
   "execution_count": 16,
   "metadata": {},
   "outputs": [
    {
     "data": {
      "image/png": "[encoded data removed]",
      "text/plain": [
       "<Figure size 640x480 with 1 Axes>"
      ]
     },
     "metadata": {},
     "output_type": "display_data"
    }
   ],
   "source": [
    "plt.plot(y_test, color = 'red', label = 'Actual Stock Price')\n",
    "plt.plot(predicted_price, color = 'green', label = 'Predicted Stock Price')\n",
    "plt.title('Google stock price prediction')\n",
    "plt.xlabel('Time')\n",
    "plt.ylabel('Stock Price')\n",
    "plt.legend()\n",
    "plt.show()"
   ]
  },
  {
   "cell_type": "code",
   "execution_count": null,
   "metadata": {},
   "outputs": [],
   "source": []
  },
  {
   "cell_type": "code",
   "execution_count": null,
   "metadata": {},
   "outputs": [],
   "source": []
  },
  {
   "cell_type": "code",
   "execution_count": null,
   "metadata": {},
   "outputs": [],
   "source": []
  },
  {
   "cell_type": "code",
   "execution_count": null,
   "metadata": {},
   "outputs": [],
   "source": []
  },
  {
   "cell_type": "code",
   "execution_count": null,
   "metadata": {},
   "outputs": [],
   "source": []
  },
  {
   "cell_type": "code",
   "execution_count": null,
   "metadata": {},
   "outputs": [],
   "source": []
  },
  {
   "cell_type": "code",
   "execution_count": null,
   "metadata": {},
   "outputs": [],
   "source": []
  },
  {
   "cell_type": "code",
   "execution_count": null,
   "metadata": {},
   "outputs": [],
   "source": []
  }
 ],
 "metadata": {
  "kernelspec": {
   "display_name": "Python 3",
   "language": "python",
   "name": "python3"
  },
  "language_info": {
   "codemirror_mode": {
    "name": "ipython",
    "version": 3
   },
   "file_extension": ".py",
   "mimetype": "text/x-python",
   "name": "python",
   "nbconvert_exporter": "python",
   "pygments_lexer": "ipython3",
   "version": "3.11.5"
  }
 },
 "nbformat": 4,
 "nbformat_minor": 4
}
